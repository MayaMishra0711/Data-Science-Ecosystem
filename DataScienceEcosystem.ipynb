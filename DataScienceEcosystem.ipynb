{
 "cells": [
  {
   "cell_type": "markdown",
   "id": "9d96c779-51fb-4cd3-bc6b-bc3b2a6fef13",
   "metadata": {
    "tags": []
   },
   "source": [
    "# Data Science Tools and Ecosystem"
   ]
  },
  {
   "cell_type": "markdown",
   "id": "12995813-33d5-4cfe-afc0-448226848cbf",
   "metadata": {},
   "source": [
    "In this notebook, Data Science Tools and Ecosystem are summarized."
   ]
  },
  {
   "cell_type": "markdown",
   "id": "af94cb0d-9e9c-4237-a556-a056732fd6e7",
   "metadata": {},
   "source": [
    "Some of the popular languages that Data Scientists use are:"
   ]
  },
  {
   "cell_type": "markdown",
   "id": "d06824b0-4f0f-4284-8076-0265fed8b5f8",
   "metadata": {},
   "source": [
    "1. Python.\n",
    "2. R\n",
    "3. SQL\n",
    "4. Julia\n",
    "5. Java\n",
    "6. c/c++\n",
    "7. Scala\n",
    "8. Java Script"
   ]
  },
  {
   "cell_type": "markdown",
   "id": "2b30e6b2-f645-4835-9b1e-aa770139f8cd",
   "metadata": {},
   "source": [
    "Some of the commonly used libraries used by Data Scientists include:"
   ]
  },
  {
   "cell_type": "markdown",
   "id": "1d38794e-17fd-4dc4-9684-a2b56dfa27dd",
   "metadata": {},
   "source": [
    "1. TensorFlow.\n",
    "2. NumPy.\n",
    "3. SciPy.\n",
    "4. Pandas.\n",
    "5. Matplotlib.\n",
    "6. Keras.\n",
    "7. SciKit-Learn.\n",
    "8. PyTorch.\n",
    "9. BeautifulSoup.\n",
    "10. Scrapy.\n",
    "11. NuPIC.\n",
    "12. Ramp.\n",
    "13. PyBrain.\n",
    "14. LightGBM.\n",
    "15. ELI5.\n",
    "\n"
   ]
  },
  {
   "cell_type": "markdown",
   "id": "306eb42b-4393-4d1c-9c8e-a6e43830f679",
   "metadata": {},
   "source": [
    "Data Science Tools:"
   ]
  },
  {
   "cell_type": "markdown",
   "id": "5bb2fced-ad51-40b3-a197-300cea84b37f",
   "metadata": {},
   "source": [
    "# Data Science Tools"
   ]
  },
  {
   "cell_type": "markdown",
   "id": "ef9b7a96-7bb0-4ff4-ad41-3844b3e035c4",
   "metadata": {},
   "source": [
    "SAS. It is one of those data science tools which are specifically designed for statistical operation"
   ]
  },
  {
   "cell_type": "markdown",
   "id": "2fe57cd3-db4b-4ad9-b09f-fd04410fea73",
   "metadata": {},
   "source": [
    "Apache Spark"
   ]
  },
  {
   "cell_type": "markdown",
   "id": "0e773ec8-2f32-40f0-be92-efa53375e213",
   "metadata": {},
   "source": [
    "BigML"
   ]
  },
  {
   "cell_type": "markdown",
   "id": "a8a1bb27-8c37-4241-b08b-8e6d76c1ac4f",
   "metadata": {
    "tags": []
   },
   "source": [
    "# H3:Below are a few examples of evaluating arithmetic expressions in Python"
   ]
  },
  {
   "cell_type": "code",
   "execution_count": 4,
   "id": "1328b45a-cf23-4c0d-9f52-e6931ec30a7a",
   "metadata": {
    "tags": []
   },
   "outputs": [
    {
     "data": {
      "text/plain": [
       "9"
      ]
     },
     "execution_count": 4,
     "metadata": {},
     "output_type": "execute_result"
    }
   ],
   "source": [
    "# Arithmetic operations\n",
    "code = compile(\"5 + 4\", \"<string>\", \"eval\")\n",
    "eval(code)\n",
    "# Result: 9"
   ]
  },
  {
   "cell_type": "code",
   "execution_count": 5,
   "id": "e34aa00f-81a3-405a-b084-b4633ba00db8",
   "metadata": {
    "tags": []
   },
   "outputs": [
    {
     "data": {
      "text/plain": [
       "24"
      ]
     },
     "execution_count": 5,
     "metadata": {},
     "output_type": "execute_result"
    }
   ],
   "source": [
    "code1 = compile(\"(5 + 7) * 2\", \"<string>\", \"eval\")\n",
    "eval(code1)\n",
    "# Result: 24"
   ]
  },
  {
   "cell_type": "code",
   "execution_count": 6,
   "id": "db3d9f42-c34b-4a41-a8c2-237a2659d233",
   "metadata": {
    "tags": []
   },
   "outputs": [
    {
     "data": {
      "text/plain": [
       "65449.84694978735"
      ]
     },
     "execution_count": 6,
     "metadata": {},
     "output_type": "execute_result"
    }
   ],
   "source": [
    "import math\n",
    "# Volume of a sphere\n",
    "code2 = compile(\"4 / 3 * math.pi * math.pow(25, 3)\", \"<string>\", \"eval\")\n",
    "eval(code2)\n",
    "# Result: 65449.84694978735"
   ]
  },
  {
   "cell_type": "markdown",
   "id": "3083e18b-6a3e-48c7-ac1a-800f883c4c73",
   "metadata": {},
   "source": [
    "This a simple arithmetic expression to mutiply then add integers"
   ]
  },
  {
   "cell_type": "code",
   "execution_count": 7,
   "id": "74ea669f-b567-432d-9fd9-d374e17685c4",
   "metadata": {
    "tags": []
   },
   "outputs": [
    {
     "data": {
      "text/plain": [
       "17"
      ]
     },
     "execution_count": 7,
     "metadata": {},
     "output_type": "execute_result"
    }
   ],
   "source": [
    "(3*4)+5"
   ]
  },
  {
   "cell_type": "markdown",
   "id": "cf07e988-3cb3-402b-b5d3-ae7488985e25",
   "metadata": {},
   "source": [
    " This will convert 200 minutes to hours by diving by 60"
   ]
  },
  {
   "cell_type": "code",
   "execution_count": 8,
   "id": "d61bb31f-6cb8-4eeb-b089-858f8b27d1c6",
   "metadata": {
    "tags": []
   },
   "outputs": [
    {
     "name": "stdout",
     "output_type": "stream",
     "text": [
      "0 days, 3.3333333333333335 hours, 0 mins. \n"
     ]
    }
   ],
   "source": [
    "days = 0\n",
    "hours = 0\n",
    "mins = 0\n",
    "\n",
    "time = 200\n",
    "#days = time / 1440\n",
    "leftover_minutes = time % 1440\n",
    "hours = leftover_minutes / 60\n",
    "#mins = time - (days*1440) - (hours*60)\n",
    "print(str(days) + \" days, \" + str(hours) + \" hours, \" + str(mins) +  \" mins. \")\n",
    "\n",
    "# Result: 3.3333333333333335 hours"
   ]
  },
  {
   "cell_type": "markdown",
   "id": "2e89fe0a-d48e-4a19-aeca-a6fbd2511047",
   "metadata": {},
   "source": [
    "# OBJECTIVES:"
   ]
  },
  {
   "cell_type": "markdown",
   "id": "404d94d3-0121-4f40-97ae-0ed740ed1644",
   "metadata": {},
   "source": [
    "The objective of this course is to give in depth knowledge about different types of tools.Like R and python etc.\n",
    "This course is very useful."
   ]
  },
  {
   "cell_type": "markdown",
   "id": "3e740ac1-fc05-404f-aa58-86aaaa7bdca5",
   "metadata": {},
   "source": [
    "List popular languages for Data Science"
   ]
  },
  {
   "cell_type": "markdown",
   "id": "9ec42cee-4ee2-47db-9b8e-318e61d689c1",
   "metadata": {},
   "source": [
    "1. R\n",
    "2. Python\n",
    "3. SQL\n",
    "4. Machine Learning\n"
   ]
  },
  {
   "cell_type": "markdown",
   "id": "8ea93ac3-3bee-4264-943c-2ca326b6cfab",
   "metadata": {},
   "source": [
    "# h2: Author"
   ]
  },
  {
   "cell_type": "markdown",
   "id": "68970c8e-8985-48ae-a141-da16f53f0ae9",
   "metadata": {},
   "source": [
    "Germano Costa"
   ]
  },
  {
   "cell_type": "code",
   "execution_count": null,
   "id": "60c9420f-fbd7-41d3-bb56-77de073d3bf3",
   "metadata": {},
   "outputs": [],
   "source": []
  }
 ],
 "metadata": {
  "kernelspec": {
   "display_name": "Python",
   "language": "python",
   "name": "conda-env-python-py"
  },
  "language_info": {
   "codemirror_mode": {
    "name": "ipython",
    "version": 3
   },
   "file_extension": ".py",
   "mimetype": "text/x-python",
   "name": "python",
   "nbconvert_exporter": "python",
   "pygments_lexer": "ipython3",
   "version": "3.7.12"
  }
 },
 "nbformat": 4,
 "nbformat_minor": 5
}
